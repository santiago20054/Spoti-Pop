{
 "cells": [
  {
   "cell_type": "markdown",
   "id": "9b4fc45b-5642-4ce5-90a5-341f0f648ed4",
   "metadata": {},
   "source": [
    "# Libraries"
   ]
  },
  {
   "cell_type": "code",
   "execution_count": null,
   "id": "1e6e76f5-5c35-4896-a20f-3244472323d2",
   "metadata": {},
   "outputs": [],
   "source": [
    "import pandas as pd\n",
    "import spotipy\n",
    "from spotipy.oauth2 import SpotifyClientCredentials\n",
    "from dotenv import load_dotenv\n",
    "import os\n",
    "import time\n",
    "dotenv_path = r'C:\\Users\\santi\\OneDrive\\Desktop\\Spotify_Popularity\\.env.txt'\n",
    "load_dotenv(dotenv_path)"
   ]
  },
  {
   "cell_type": "markdown",
   "id": "b16cf745-4336-415c-9e66-d89d1d56158f",
   "metadata": {},
   "source": [
    "# Api Connection"
   ]
  },
  {
   "cell_type": "code",
   "execution_count": null,
   "id": "4132bc9c-31cc-4d43-a7a7-1ce37830d17e",
   "metadata": {},
   "outputs": [],
   "source": [
    "# Configura tus credenciales de cliente\n",
    "client_id = os.getenv(\"SPOTIFY_CLIENT_ID\")\n",
    "client_secret = os.getenv(\"SPOTIFY_CLIENT_SECRET\")\n",
    "\n",
    "# Autenticación con Spotify\n",
    "sp = spotipy.Spotify(auth_manager=SpotifyClientCredentials(client_id=client_id, client_secret=client_secret))"
   ]
  },
  {
   "cell_type": "code",
   "execution_count": null,
   "id": "2445da29-28a2-4124-8c0c-e389a05aeb6a",
   "metadata": {
    "jupyter": {
     "source_hidden": true
    }
   },
   "outputs": [],
   "source": [
    "from minim import spotify\n",
    "import pandas as pd\n",
    "client = spotify.WebAPI(flow=\"pkce\", browser=True, web_framework=\"http.server\",\n",
    "                        scopes=spotify.WebAPI.get_scopes(\"all\"), overwrite=True)\n",
    "\n",
    "# Specify the target Spotify playlist's ID.\n",
    "playlist_id = \"bff27fb8fb714104\"\n",
    "\n",
    "# Get the first 100 playlist items/tracks.\n",
    "resp = client.get_playlist_items(playlist_id, limit=100)\n",
    "\n",
    "# Get the track IDs of the returned playlist items/tracks.\n",
    "track_ids = [item[\"track\"][\"id\"] for item in resp[\"items\"]]\n",
    "\n",
    "# Get the audio features for the 100 tracks.\n",
    "afs = client.get_tracks_audio_features(track_ids)\n",
    "\n",
    "# Create a DataFrame using the audio features data.\n",
    "df = pd.DataFrame(afs)\n",
    "\n",
    "# Iterate through the rest of the playlist items/tracks.\n",
    "while True:\n",
    "\n",
    "    # Break the loop if all playlist items/tracks have been retrieved.\n",
    "    if resp[\"offset\"] + resp[\"limit\"] >= resp[\"total\"]:\n",
    "        break\n",
    "\n",
    "    # Same procedure as above.\n",
    "    resp = client.get_playlist_items(playlist_id, limit=100, \n",
    "                                     offset=resp[\"offset\"] + resp[\"limit\"])\n",
    "    track_ids = [item[\"track\"][\"id\"] for item in resp[\"items\"]]\n",
    "    afs = client.get_tracks_audio_features(track_ids)\n",
    "\n",
    "    # Concatenate the new audio features data to the existing DataFrame.\n",
    "    df = pd.concat([df, pd.DataFrame(afs)])"
   ]
  },
  {
   "cell_type": "markdown",
   "id": "87724cf3-6efb-44ba-abd1-714feaabe0d8",
   "metadata": {},
   "source": [
    "# Dataset"
   ]
  },
  {
   "cell_type": "code",
   "execution_count": null,
   "id": "07c83198-c63c-4951-bac5-ea92d4b5a1c4",
   "metadata": {},
   "outputs": [],
   "source": [
    "%%time\n",
    "# Obtener el ID de la playlist\n",
    "dfs = []\n",
    "#playlist_id = ['1M31YfWCBmOSlGGyF0wvsw', '37i9dQZF1DX4KeocBrdbJg', '37i9dQZEVXbMDoHDwVN2tF', '37i9dQZF1DXbvPjXfc8G9S',\n",
    "#              '4KlHX1H41ZIyQ5oodAp2kj', '7xwYHh7KbKDtlMblSkvtfu']\n",
    "\n",
    "playlist_id = ['1M31YfWCBmOSlGGyF0wvsw']\n",
    "\n",
    "for pl in playlist_id:\n",
    "    # Obtener las canciones de la playlist\n",
    "    results = sp.playlist_tracks(pl)\n",
    "    \n",
    "    # Listas para almacenar los datos\n",
    "    song_names = []\n",
    "    song_ids = []\n",
    "    audio_features = []\n",
    "    popularity = []\n",
    "    artists = []\n",
    "    release_years = []\n",
    "    \n",
    "    # Iterar sobre las canciones y obtener los datos\n",
    "    for track in results['items']:\n",
    "        # Obtener datos de la canción\n",
    "        song_name = track['track']['name']\n",
    "        song_id = track['track']['id']\n",
    "        song_names.append(song_name)\n",
    "        song_ids.append(song_id)\n",
    "    \n",
    "        # Obtener características de audio\n",
    "        features = sp.audio_features([song_id])[0]\n",
    "        audio_features.append(features)\n",
    "    \n",
    "        # Obtener popularidad de la canción\n",
    "        song_popularity = track['track']['popularity']\n",
    "        popularity.append(song_popularity)\n",
    "    \n",
    "        # Obtener género de la canción\n",
    "        artist_info = track['track']['artists'][0]  # Obtener la información del primer artista de la canción\n",
    "        artist_name = artist_info['name']\n",
    "        artists.append(artist_name)\n",
    "    \n",
    "        # Obtener año de lanzamiento de la canción\n",
    "        track_info = sp.track(song_id)\n",
    "        release_date = track_info['album']['release_date']\n",
    "        release_year = release_date.split('-')[0] if release_date else None\n",
    "        release_years.append(release_year)\n",
    "    \n",
    "   \n",
    "    # Crear DataFrame con los datos\n",
    "    df = pd.DataFrame({\n",
    "        'Song ID': song_ids,\n",
    "        'Song Name': song_names,\n",
    "        'Artist Name': artists,\n",
    "        'Year': release_years,\n",
    "        'Popularity': popularity\n",
    "    })\n",
    "    \n",
    "    df_audio_features = pd.DataFrame(audio_features)\n",
    "    df_completo = pd.merge(df, df_audio_features, how='left', left_on='Song ID', right_on='id')\n",
    "    df_completo = df_completo.drop(columns=['type', 'id', 'uri', 'track_href', 'analysis_url'], axis=1)\n",
    "    dfs.append(df_completo)\n",
    "\n",
    "tablon = pd.concat(dfs)\n",
    "tablon = tablon.drop_duplicates(subset='Song ID').reset_index(drop=True)"
   ]
  },
  {
   "cell_type": "code",
   "execution_count": null,
   "id": "b32e02f3-d2e6-495c-935c-a50040ba23cb",
   "metadata": {},
   "outputs": [],
   "source": []
  }
 ],
 "metadata": {
  "kernelspec": {
   "display_name": "Python 3 (ipykernel)",
   "language": "python",
   "name": "python3"
  },
  "language_info": {
   "codemirror_mode": {
    "name": "ipython",
    "version": 3
   },
   "file_extension": ".py",
   "mimetype": "text/x-python",
   "name": "python",
   "nbconvert_exporter": "python",
   "pygments_lexer": "ipython3",
   "version": "3.11.7"
  }
 },
 "nbformat": 4,
 "nbformat_minor": 5
}
